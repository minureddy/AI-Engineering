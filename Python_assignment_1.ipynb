{
  "nbformat": 4,
  "nbformat_minor": 0,
  "metadata": {
    "colab": {
      "provenance": []
    },
    "kernelspec": {
      "name": "python3",
      "display_name": "Python 3"
    },
    "language_info": {
      "name": "python"
    }
  },
  "cells": [
    {
      "cell_type": "markdown",
      "source": [
        "# BMI Calculator"
      ],
      "metadata": {
        "id": "vBuqWEvxzCuK"
      }
    },
    {
      "cell_type": "code",
      "source": [
        "Weight = float(input('Please enter your Weight in kgs:'))\n",
        "Height = float(input('Please enter your Height in centimeters:'))\n",
        "BMI = Weight/(Height/100)**2\n",
        "print ('Your BMI is' , BMI)\n",
        "\n",
        "if BMI < 18.5:\n",
        "    print ('You are underweight')\n",
        "\n",
        "elif BMI >= 18.5 and BMI <= 24.9:\n",
        "    print ('You are normal')\n",
        "\n",
        "elif BMI >= 25 and BMI <= 29.9:\n",
        "    print ('You are overweight')\n",
        "\n",
        "elif BMI >= 30 and BMI <=39.9:\n",
        "    print ('You are obese')\n",
        "\n",
        "elif BMI >= 40:\n",
        "    print ('You are severely obese')\n",
        "\n",
        "else:\n",
        "\n",
        "    print ('Give correct details, to get your BMI')\n"
      ],
      "metadata": {
        "id": "NWmyRQOp4h9x",
        "colab": {
          "base_uri": "https://localhost:8080/"
        },
        "outputId": "6c09948c-0ddb-4b5e-c0c5-d1ef8dd2296d"
      },
      "execution_count": 11,
      "outputs": [
        {
          "output_type": "stream",
          "name": "stdout",
          "text": [
            "Please enter your Weight in kgs:56\n",
            "Please enter your Height in centimeters:165\n",
            "Your BMI is 20.569329660238754\n",
            "You are normal\n"
          ]
        }
      ]
    },
    {
      "cell_type": "markdown",
      "source": [
        "#GRADES REPORT"
      ],
      "metadata": {
        "id": "hlJhBt3lnDHA"
      }
    },
    {
      "cell_type": "code",
      "source": [
        "Name = input('Enter your name :')\n",
        "Grades =str(input( (f\"Hi {Name}, Please enter your Grades:\"))).upper()\n",
        "\n",
        "if Grades == 'A+':\n",
        " print(\"your percentage is 97–100%\")\n",
        " print('your GPA is 4.0')\n",
        "\n",
        "elif Grades == 'A':\n",
        " print(\"your percentage is 93–96%\")\n",
        " print('your GPA is 3.9')\n",
        "\n",
        "\n",
        "elif Grades == 'A-':\n",
        "    print(\"Your percentage is 90–92%\")\n",
        "    print('Your GPA is 3.7')\n",
        "\n",
        "elif Grades == 'B+':\n",
        "    print(\"Your percentage is 87–89%\")\n",
        "    print('Your GPA is 3.3')\n",
        "\n",
        "elif Grades == 'B':\n",
        "    print(\"Your percentage is 83–86%\")\n",
        "    print('Your GPA is 3.0')\n",
        "\n",
        "elif Grades == 'B-':\n",
        "    print(\"Your percentage is 80–82%\")\n",
        "    print('Your GPA is 2.7')\n",
        "\n",
        "elif Grades == 'C+':\n",
        "    print(\"Your percentage is 77–79%\")\n",
        "    print('Your GPA is 2.3')\n",
        "\n",
        "elif Grades == 'C':\n",
        "    print(\"Your percentage is 73–76%\")\n",
        "    print('Your GPA is 2.0')\n",
        "\n",
        "elif Grades == 'C-':\n",
        "    print(\"Your percentage is 70–72%\")\n",
        "    print('Your GPA is 1.7')\n",
        "\n",
        "elif Grades == 'D+':\n",
        "    print(\"Your percentage is 67–69%\")\n",
        "    print('Your GPA is 1.3')\n",
        "\n",
        "elif Grades == 'D':\n",
        "    print(\"Your percentage is 63–66%\")\n",
        "    print('Your GPA is 1.0')\n",
        "\n",
        "elif Grades == 'D-':\n",
        "    print(\"Your percentage is 60–62%\")\n",
        "    print('Your GPA is 0.7')\n",
        "\n",
        "elif Grades == 'F':\n",
        "    print(\"Your percentage is 0–59%\")\n",
        "    print('Your GPA is 0.0')\n",
        "\n",
        "else:\n",
        "    print(\"Invalid grade entered. Please enter a valid grade like A+, B-, C, etc.\")\n",
        "\n",
        "\n",
        "\n"
      ],
      "metadata": {
        "colab": {
          "base_uri": "https://localhost:8080/"
        },
        "id": "cKBM56OZvhH5",
        "outputId": "6d99161b-a6c0-4bae-a825-a30f095891c9"
      },
      "execution_count": 29,
      "outputs": [
        {
          "output_type": "stream",
          "name": "stdout",
          "text": [
            "Enter your name :Ram\n",
            "Hi Ram, Please enter your Grades:g\n",
            "Invalid grade entered. Please enter a valid grade like A+, B-, C, etc.\n"
          ]
        }
      ]
    }
  ]
}