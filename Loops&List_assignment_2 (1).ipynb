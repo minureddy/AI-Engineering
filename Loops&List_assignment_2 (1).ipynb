{
  "nbformat": 4,
  "nbformat_minor": 0,
  "metadata": {
    "colab": {
      "provenance": []
    },
    "kernelspec": {
      "name": "python3",
      "display_name": "Python 3"
    },
    "language_info": {
      "name": "python"
    }
  },
  "cells": [
    {
      "cell_type": "code",
      "execution_count": null,
      "metadata": {
        "id": "prx5gOIfgwDi"
      },
      "outputs": [],
      "source": []
    },
    {
      "cell_type": "code",
      "source": [
        "print('*************************')\n",
        "print('    AB University ')\n",
        "print('*************************')\n",
        "print()\n",
        "\n",
        "num_admissions = int(input('How many admissions do you want to process? '))\n",
        "\n",
        "start_reg = 100001\n",
        "\n",
        "for i in range(num_admissions):\n",
        "    name = input('Your good name pls.. ')\n",
        "    reg_no = str(start_reg + i)  # Starts from 100001\n",
        "    print('Hello... ' + name + ' Reg No: ' + reg_no + ', Congrats!\\n')\n",
        "else:\n",
        "    print('Sorry !!! Admission Closed')"
      ],
      "metadata": {
        "colab": {
          "base_uri": "https://localhost:8080/"
        },
        "collapsed": true,
        "id": "QMZnFxQSiV7p",
        "outputId": "7e399679-8e0b-4c8e-82fe-7a7a908052df"
      },
      "execution_count": 9,
      "outputs": [
        {
          "output_type": "stream",
          "name": "stdout",
          "text": [
            "*************************\n",
            "    AB University \n",
            "*************************\n",
            "\n",
            "How many admissions do you want to process? 4\n",
            "Your good name pls.. a\n",
            "Hello... a Reg No: 100001, Congrats!\n",
            "\n",
            "Your good name pls.. v\n",
            "Hello... v Reg No: 100002, Congrats!\n",
            "\n",
            "Your good name pls.. c\n",
            "Hello... c Reg No: 100003, Congrats!\n",
            "\n",
            "Your good name pls.. s\n",
            "Hello... s Reg No: 100004, Congrats!\n",
            "\n",
            "Sorry !!! Admission Closed\n"
          ]
        }
      ]
    },
    {
      "cell_type": "markdown",
      "source": [
        "# While Loop"
      ],
      "metadata": {
        "id": "74txpBapi8Yg"
      }
    },
    {
      "cell_type": "code",
      "source": [
        "print('*************************')\n",
        "print('    AB University ')\n",
        "print('*************************')\n",
        "print()\n",
        "\n",
        "num_admissions = int(input('How many admissions do you want to process? '))\n",
        "\n",
        "start_reg = 100001\n",
        "count=0\n",
        "\n",
        "while count<num_admissions:\n",
        "    name = input('Your good name pls.. ')\n",
        "    reg_no = start_reg + count\n",
        "    count += 1\n",
        "    print('Hello... ' , name, 'Reg No:' ,reg_no, 'Congrats!\\n')\n",
        "\n",
        "\n",
        "else:\n",
        "    print('Sorry !!! Admission Closed')"
      ],
      "metadata": {
        "colab": {
          "base_uri": "https://localhost:8080/"
        },
        "collapsed": true,
        "id": "kPEI_0Iqi6K6",
        "outputId": "ce5a5deb-cffa-42d0-99a3-eb8699fa3c25"
      },
      "execution_count": 25,
      "outputs": [
        {
          "output_type": "stream",
          "name": "stdout",
          "text": [
            "*************************\n",
            "    AB University \n",
            "*************************\n",
            "\n",
            "How many admissions do you want to process? 8\n",
            "Your good name pls.. 76\n",
            "Hello...  76 Reg No: 100001 Congrats!\n",
            "\n",
            "Your good name pls.. 7y\n",
            "Hello...  7y Reg No: 100002 Congrats!\n",
            "\n",
            "Your good name pls.. 78\n",
            "Hello...  78 Reg No: 100003 Congrats!\n",
            "\n",
            "Your good name pls.. yh\n",
            "Hello...  yh Reg No: 100004 Congrats!\n",
            "\n",
            "Your good name pls.. fh\n",
            "Hello...  fh Reg No: 100005 Congrats!\n",
            "\n",
            "Your good name pls.. fgh\n",
            "Hello...  fgh Reg No: 100006 Congrats!\n",
            "\n",
            "Your good name pls.. fhf\n",
            "Hello...  fhf Reg No: 100007 Congrats!\n",
            "\n",
            "Your good name pls.. fhgf\n",
            "Hello...  fhgf Reg No: 100008 Congrats!\n",
            "\n",
            "Sorry !!! Admission Closed\n"
          ]
        }
      ]
    },
    {
      "cell_type": "markdown",
      "source": [
        "#multiplication table for and while loop"
      ],
      "metadata": {
        "id": "m2OKOETao5vt"
      }
    },
    {
      "cell_type": "code",
      "source": [
        "print('*************************')\n",
        "print('    TIMES TABLE ')\n",
        "print('*************************')\n",
        "print()\n",
        "\n",
        "Times_T = int(input('WHAT TIMESTABLE DO YOU WANT TO LEARN'))\n",
        "\n",
        "TABLESIZE= range(1,13)\n",
        "\n",
        "\n",
        "for i in TABLESIZE:\n",
        " output = Times_T * i\n",
        " print(Times_T,'*',i,'=',output)\n",
        "\n",
        "\n"
      ],
      "metadata": {
        "colab": {
          "base_uri": "https://localhost:8080/"
        },
        "collapsed": true,
        "id": "jnWiz30ppGzH",
        "outputId": "f5b06df8-932c-4fb0-d901-2d7b6fc3e332"
      },
      "execution_count": 32,
      "outputs": [
        {
          "output_type": "stream",
          "name": "stdout",
          "text": [
            "*************************\n",
            "    TIMES TABLE \n",
            "*************************\n",
            "\n",
            "WHAT TIMESTABLE DO YOU WANT TO LEARN15\n",
            "15 * 1 = 15\n",
            "15 * 2 = 30\n",
            "15 * 3 = 45\n",
            "15 * 4 = 60\n",
            "15 * 5 = 75\n",
            "15 * 6 = 90\n",
            "15 * 7 = 105\n",
            "15 * 8 = 120\n",
            "15 * 9 = 135\n",
            "15 * 10 = 150\n",
            "15 * 11 = 165\n",
            "15 * 12 = 180\n"
          ]
        }
      ]
    },
    {
      "cell_type": "code",
      "source": [
        "print('*************************')\n",
        "print('    TIMES TABLE ')\n",
        "print('*************************')\n",
        "print()\n",
        "\n",
        "Times_T = int(input('WHAT TIMESTABLE DO YOU WANT TO LEARN'))\n",
        "\n",
        "TABLESIZE= 1\n",
        "\n",
        "while TABLESIZE<=12:\n",
        "  output = Times_T * TABLESIZE\n",
        "  print(Times_T,'*',TABLESIZE,'=',output)\n",
        "  TABLESIZE+=1\n",
        "\n"
      ],
      "metadata": {
        "colab": {
          "base_uri": "https://localhost:8080/"
        },
        "collapsed": true,
        "id": "Wm7aIHgm2X36",
        "outputId": "343e326a-80dd-4aa1-d70f-6a8f2259c04d"
      },
      "execution_count": 39,
      "outputs": [
        {
          "output_type": "stream",
          "name": "stdout",
          "text": [
            "*************************\n",
            "    TIMES TABLE \n",
            "*************************\n",
            "\n",
            "WHAT TIMESTABLE DO YOU WANT TO LEARN8\n",
            "8 * 1 = 8\n",
            "8 * 2 = 16\n",
            "8 * 3 = 24\n",
            "8 * 4 = 32\n",
            "8 * 5 = 40\n",
            "8 * 6 = 48\n",
            "8 * 7 = 56\n",
            "8 * 8 = 64\n",
            "8 * 9 = 72\n",
            "8 * 10 = 80\n",
            "8 * 11 = 88\n",
            "8 * 12 = 96\n"
          ]
        }
      ]
    },
    {
      "cell_type": "markdown",
      "source": [],
      "metadata": {
        "id": "qenGftNQ8NiZ"
      }
    },
    {
      "cell_type": "code",
      "source": [
        "\n",
        "Softwares=[]\n",
        "for i in range(5):\n",
        " data= str(input('please enter the software name:'))\n",
        " Softwares.append(data)\n",
        "print('the sowftwares updated by you are :',Softwares)\n",
        "\n"
      ],
      "metadata": {
        "colab": {
          "base_uri": "https://localhost:8080/"
        },
        "collapsed": true,
        "id": "k9cC8xFzBRMG",
        "outputId": "238f7cd9-349d-421a-a79f-22ac6b700a17"
      },
      "execution_count": 73,
      "outputs": [
        {
          "output_type": "stream",
          "name": "stdout",
          "text": [
            "please enter the software name:windows\n",
            "please enter the software name:linux\n",
            "please enter the software name:vlc\n",
            "please enter the software name:zoom\n",
            "please enter the software name:teams\n",
            "the sowftwares updated by you are : ['windows', 'linux', 'vlc', 'zoom', 'teams']\n"
          ]
        }
      ]
    },
    {
      "cell_type": "code",
      "source": [
        "Softwares = []\n",
        "i=1\n",
        "while i<=5:\n",
        "  data= str(input('please enter the software name:'))\n",
        "  Softwares.append(data)\n",
        "  i+=1\n",
        "print('the softwares updated by you are :',Softwares)\n"
      ],
      "metadata": {
        "colab": {
          "base_uri": "https://localhost:8080/"
        },
        "collapsed": true,
        "id": "HsjeI6njDEie",
        "outputId": "6a240bd7-9497-4834-8853-7001c95f3cd5"
      },
      "execution_count": 77,
      "outputs": [
        {
          "output_type": "stream",
          "name": "stdout",
          "text": [
            "please enter the software name:word\n",
            "please enter the software name:excel\n",
            "please enter the software name:powerbi\n",
            "please enter the software name:sql server\n",
            "please enter the software name:collab\n",
            "the softwares updated by you are : ['word', 'excel', 'powerbi', 'sql server', 'collab']\n"
          ]
        }
      ]
    }
  ]
}