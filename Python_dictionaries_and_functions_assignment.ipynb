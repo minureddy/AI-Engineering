{
  "nbformat": 4,
  "nbformat_minor": 0,
  "metadata": {
    "colab": {
      "provenance": []
    },
    "kernelspec": {
      "name": "python3",
      "display_name": "Python 3"
    },
    "language_info": {
      "name": "python"
    }
  },
  "cells": [
    {
      "cell_type": "markdown",
      "source": [
        "create dicts- coutires\n",
        "name population area capital"
      ],
      "metadata": {
        "id": "Raa2mLeecoxb"
      }
    },
    {
      "cell_type": "code",
      "source": [
        "countries_data= {\n",
        "                \"India\":{\n",
        "        \"Population in Billion\":1464,\n",
        "                         \"Area in million km²\": 3.287,\n",
        "                         \"Capital\":\"New Delhi\"},\n",
        "                 \"USA\": {\"Population in Million\":40,\n",
        "                         \"Area in million km²\": 9.867,\n",
        "                         \"Capital\":\"New Delhi\"},\n",
        "                 \"Canada\": {\"Population in Million\":41.5,\n",
        "                         \"Area in million km²\": 9.985,\n",
        "                         \"Capital\":\"New Delhi\"},\n",
        "                 \"Australia\": {\"Population in Million\":27,\n",
        "                         \"Area in million km²\": 7.688,\n",
        "                         \"Capital\":\"New Delhi\"},\n",
        "\n",
        "}\n",
        "\n",
        "for country, info in countries_data.items():\n",
        "    print(\"Country:\", country)\n",
        "    for key, value in info.items():\n",
        "        print(\" \", key + \":\", value)\n",
        "    print(\".................................\")\n",
        ""
      ],
      "metadata": {
        "colab": {
          "base_uri": "https://localhost:8080/"
        },
        "collapsed": true,
        "id": "WO4lhfu1cuqq",
        "outputId": "8b870dd4-9319-485d-9935-30da08c8b6fb"
      },
      "execution_count": 18,
      "outputs": [
        {
          "output_type": "stream",
          "name": "stdout",
          "text": [
            "Country: India\n",
            "  Population in Billion: 1464\n",
            "  Area in million km²: 3.287\n",
            "  Capital: New Delhi\n",
            ".................................\n",
            "Country: USA\n",
            "  Population in Million: 40\n",
            "  Area in million km²: 9.867\n",
            "  Capital: New Delhi\n",
            ".................................\n",
            "Country: Canada\n",
            "  Population in Million: 41.5\n",
            "  Area in million km²: 9.985\n",
            "  Capital: New Delhi\n",
            ".................................\n",
            "Country: Australia\n",
            "  Population in Million: 27\n",
            "  Area in million km²: 7.688\n",
            "  Capital: New Delhi\n",
            ".................................\n"
          ]
        }
      ]
    },
    {
      "cell_type": "markdown",
      "source": [
        "#Functions"
      ],
      "metadata": {
        "id": "z0uyOuTgfn4H"
      }
    },
    {
      "cell_type": "code",
      "source": [
        "\n",
        "def add(x,y):\n",
        "  return x + y\n",
        "\n",
        "def sub(x,y):\n",
        "  return x-y\n",
        "\n",
        "def mul(x,y):\n",
        "  return x * y\n",
        "\n",
        "def div(x,y):\n",
        "  return x/y\n",
        "\n",
        "Caluculator = int(input(\"Choose one option from below:\\n1. Add\\n2. Subtract\\n3. Multiply\\n4. Division\\nEnter your choice (1-4): \"))\n",
        "num1 = float(input(\"Enter first number: \"))\n",
        "num2 = float(input(\"Enter second number: \"))\n",
        "\n",
        "if Caluculator == 1:\n",
        "  result = add(num1,num2)\n",
        "  print(\"Result:\",result)\n",
        "elif Caluculator == 2:\n",
        "  result = sub(num1,num2)\n",
        "  print(\"Result:\",result)\n",
        "elif Caluculator == 3:\n",
        "  result = mul(num1,num2)\n",
        "  print(\"Result:\",result)\n",
        "elif Caluculator == 4:\n",
        "  result = div(num1,num2)\n",
        "  print(\"Result:\",result)\n",
        "else:\n",
        " print(\"Invalid choice. Please choose from 1 to 4.\")\n"
      ],
      "metadata": {
        "colab": {
          "base_uri": "https://localhost:8080/"
        },
        "id": "aYDzUkthfsmi",
        "outputId": "9d5d2c57-3fdc-499d-fc55-66da68de783d"
      },
      "execution_count": 12,
      "outputs": [
        {
          "output_type": "stream",
          "name": "stdout",
          "text": [
            "Choose one option from below:\n",
            "1. Add\n",
            "2. Subtract\n",
            "3. Multiply\n",
            "4. Division\n",
            "Enter your choice (1-4): 4\n",
            "Enter first number: 8\n",
            "Enter second number: 2\n",
            "Result: 4.0\n"
          ]
        }
      ]
    }
  ]
}