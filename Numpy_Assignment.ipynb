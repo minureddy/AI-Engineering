{
  "nbformat": 4,
  "nbformat_minor": 0,
  "metadata": {
    "colab": {
      "provenance": []
    },
    "kernelspec": {
      "name": "python3",
      "display_name": "Python 3"
    },
    "language_info": {
      "name": "python"
    }
  },
  "cells": [
    {
      "cell_type": "code",
      "execution_count": null,
      "metadata": {
        "id": "boqc_mo4JAKF"
      },
      "outputs": [],
      "source": [
        "#A 1D array of numbers from 10 to 50 (inclusive).\n",
        "import numpy as np\n",
        "arr= np.arange(10,51)\n",
        "print(arr)\n",
        "#A 2D array of shape (3,3) with values from 1 to 9.\n",
        "twod =np.arange(1,10).reshape(3,3)\n",
        "print(twod)\n",
        "\n",
        "#Extract the first five elements.\n",
        "arr = np.array([10, 20, 30, 40, 50, 60, 70, 80, 90])\n",
        "print(arr[:5])\n",
        "#Extract every alternate element starting from index 1.\n",
        "print(arr[1::2])\n",
        "#Reverse the array using slicing.\n",
        "reversed_arr = arr[::-1]\n",
        "print(reversed_arr)\n",
        "\n",
        "#Matrix Operations: Create two (3×3) matrices with random integers between 1 and 20, then:\n",
        "random=np.random.randint(1,21, size=(3,3))\n",
        "print(random)\n",
        "random1=np.random.randint(1,21, size=(3,3))\n",
        "print(random1)\n",
        "#Compute the element-wise sum and product of both matrices.\n",
        "d= random + random1\n",
        "print(\"the sum of 2 matrics:\\n\", d)\n",
        "e= random * random1\n",
        "print(e)\n",
        "print(\"the product of 2 matrics:\\n\", e)\n",
        "#Compute the matrix multiplication of the two matrices.-- use dot\n",
        "result = np.dot(random, random1)\n",
        "print(result)\n",
        "#Perform an element-wise sum using broadcasting.\n",
        "A = np.array([[1], [2], [3]])\n",
        "B = np.array([4, 5, 6])\n",
        "result = A + B\n",
        "print(result)\n",
        "\n",
        "#Compute the mean, median, and standard deviation.\n",
        "#Find the maximum and minimum scores.\n",
        "scores = np.array([65, 78, 90, 55, 88, 92, 75, 80])\n",
        "a= scores.mean()\n",
        "print('the mean of Scores is:',a)\n",
        "b=np.median(scores)\n",
        "print('the median of Scores is:',b)\n",
        "c= scores.std()\n",
        "print('the Standard Deviation of Scores is:',c)\n",
        "print('the max value is:', scores.max())\n",
        "print('the min value is:', scores.min())"
      ]
    }
  ]
}